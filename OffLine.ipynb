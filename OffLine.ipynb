{
 "cells": [
  {
   "cell_type": "code",
   "execution_count": 1,
   "metadata": {},
   "outputs": [],
   "source": [
    "import re\n",
    "import json"
   ]
  },
  {
   "cell_type": "markdown",
   "metadata": {},
   "source": [
    "## open file "
   ]
  },
  {
   "cell_type": "code",
   "execution_count": 2,
   "metadata": {},
   "outputs": [],
   "source": [
    "\n",
    "def get_clean_lines_from_file(name_file:str)->list:\n",
    "    list_line=[]\n",
    "    output_file='output'+name_file\n",
    "    with open(name_file,encoding=\"utf8\") as f, open(output_file, 'w',encoding=\"utf8\") as f2: \n",
    "        for line in f: \n",
    "            if line != '\\n':\n",
    "                 new_line=line.lstrip(' ')\n",
    "            \n",
    "                 f2.write(new_line)\n",
    "               \n",
    "    #             new_line=re.findall(\"\\w\", new_line) \n",
    "                 list_line.append(new_line.rstrip(\"\\n\"))\n",
    "               \n",
    "    return list_line\n",
    "\n",
    "     \n"
   ]
  },
  {
   "cell_type": "code",
   "execution_count": 3,
   "metadata": {},
   "outputs": [],
   "source": [
    "name_file='William_Shakespeare__Hamlet.txt'\n",
    "list_line=get_clean_lines_from_file(name_file)"
   ]
  },
  {
   "cell_type": "markdown",
   "metadata": {},
   "source": [
    "## get all manipulation of line (from all file) in the file\n",
    "#### example:\n",
    "  input: Marcellus, Officer.\n",
    "  \n",
    "  ounput:\n",
    "['Marcellus,', 'Marcellus, Officer.', 'Officer.']"
   ]
  },
  {
   "cell_type": "code",
   "execution_count": 4,
   "metadata": {},
   "outputs": [],
   "source": [
    "def get_all_manipulation_line(list_line:str)->dict:\n",
    "    all_manipulation=dict()\n",
    "    for num_line,line in enumerate(list_line):\n",
    "        manipulation_line=[]\n",
    "        words=line.split()\n",
    "        for i,start_word in enumerate(words):\n",
    "            for j,end_word in enumerate(words):\n",
    "                if j>=i:\n",
    "                    manipulation=\" \".join(words[i:j+1]).lower() \n",
    "                    manipulation_line.append(manipulation)\n",
    "                    value=(num_line+1,line)\n",
    "                    try:\n",
    "                        all_manipulation[manipulation].append(value)\n",
    "                    except:\n",
    "                         all_manipulation[manipulation]=[value]\n",
    "#         all_manipulation.append(manipulation_line)\n",
    "        \n",
    "        \n",
    "    return all_manipulation;\n",
    "        \n",
    "   "
   ]
  },
  {
   "cell_type": "code",
   "execution_count": 5,
   "metadata": {},
   "outputs": [
    {
     "name": "stdout",
     "output_type": "stream",
     "text": [
      "[(82, 'Where now it burns, Marcellus and myself,')]\n"
     ]
    }
   ],
   "source": [
    "all_manipulation=get_all_manipulation_line(list_line)\n",
    "print(all_manipulation['marcellus']) "
   ]
  },
  {
   "cell_type": "markdown",
   "metadata": {},
   "source": [
    "## sort alphabetical order and save only the first 5"
   ]
  },
  {
   "cell_type": "code",
   "execution_count": 6,
   "metadata": {},
   "outputs": [],
   "source": [
    "def get_sorted_manipulation_data(name_sorce_file,list_line:list)->dict:\n",
    "    all_manipulation=get_all_manipulation_line(list_line)\n",
    "    for key,val in all_manipulation.items():\n",
    "        val.sort(key=lambda x:x[1])\n",
    "        score=len(key.split())*2\n",
    "        all_manipulation[key]=[name_sorce_file,score,list(set([x[0] for x in val][:5]))]\n",
    "#         all_manipulation[key]=[x[0] for x in val.sort(key=lambda x:x[1])]\n",
    "    return all_manipulation"
   ]
  },
  {
   "cell_type": "code",
   "execution_count": 7,
   "metadata": {},
   "outputs": [
    {
     "name": "stdout",
     "output_type": "stream",
     "text": [
      "['William_Shakespeare__Hamle', 2, [1251, 4011, 1260, 2327, 3802]]\n"
     ]
    }
   ],
   "source": [
    "name_sorce_file='William_Shakespeare__Hamle'\n",
    "all_manipulation=get_sorted_manipulation_data(name_sorce_file,list_line)\n",
    "print(all_manipulation['the']) "
   ]
  },
  {
   "cell_type": "markdown",
   "metadata": {},
   "source": [
    "## save data(dict) in json file"
   ]
  },
  {
   "cell_type": "code",
   "execution_count": 8,
   "metadata": {},
   "outputs": [],
   "source": [
    "def save_json(dict_data,name_sorce_file):\n",
    "    with open(name_sorce_file+'.json', 'w',encoding=\"utf8\") as fp:\n",
    "        json.dump(dict_data, fp)# convert into JSON:\n",
    "    print(f\"save file\")\n",
    "        "
   ]
  },
  {
   "cell_type": "code",
   "execution_count": 9,
   "metadata": {},
   "outputs": [
    {
     "name": "stdout",
     "output_type": "stream",
     "text": [
      "save file\n"
     ]
    }
   ],
   "source": [
    "name_sorce_file='William_Shakespeare__Hamle'\n",
    "save_json(all_manipulation,name_sorce_file)"
   ]
  },
  {
   "cell_type": "markdown",
   "metadata": {},
   "source": [
    "# create data from file"
   ]
  },
  {
   "cell_type": "code",
   "execution_count": 12,
   "metadata": {},
   "outputs": [],
   "source": [
    "def create_data(name_sorce_file):\n",
    "    list_line=get_clean_lines_from_file(name_sorce_file+'.txt')\n",
    "  \n",
    "    all_manipulation=get_sorted_manipulation_data(name_sorce_file,list_line)\n",
    "    save_json(all_manipulation,name_sorce_file)\n",
    "    \n",
    "    "
   ]
  },
  {
   "cell_type": "code",
   "execution_count": 13,
   "metadata": {},
   "outputs": [
    {
     "name": "stdout",
     "output_type": "stream",
     "text": [
      "save file\n"
     ]
    }
   ],
   "source": [
    "# name_sorce_file='William_Shakespeare__Hamlet'\n",
    "name_file='Adventures_of_Huckleberry_Finn'\n",
    "create_data(name_file)"
   ]
  },
  {
   "cell_type": "code",
   "execution_count": null,
   "metadata": {},
   "outputs": [],
   "source": []
  }
 ],
 "metadata": {
  "kernelspec": {
   "display_name": "Python 3",
   "language": "python",
   "name": "python3"
  },
  "language_info": {
   "codemirror_mode": {
    "name": "ipython",
    "version": 3
   },
   "file_extension": ".py",
   "mimetype": "text/x-python",
   "name": "python",
   "nbconvert_exporter": "python",
   "pygments_lexer": "ipython3",
   "version": "3.7.0"
  }
 },
 "nbformat": 4,
 "nbformat_minor": 4
}
